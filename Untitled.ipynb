{
 "cells": [
  {
   "cell_type": "code",
   "execution_count": 5,
   "metadata": {},
   "outputs": [
    {
     "name": "stdout",
     "output_type": "stream",
     "text": [
      "1.6\n"
     ]
    }
   ],
   "source": [
    "import theano.tensor as T\n",
    "from theano import function\n",
    "\n",
    "a=T.dscalar('a')\n",
    "b=T.dscalar('b')\n",
    "c=T.dscalar('c')\n",
    "d=T.dscalar('d')\n",
    "e=T.dscalar('e')\n",
    "\n",
    "f=((a-b+c)*d)/e\n",
    "\n",
    "g=function([a,b,c,d,e],f)\n",
    "\n",
    "print(g(1,2,3,4,5))\n"
   ]
  },
  {
   "cell_type": "code",
   "execution_count": 15,
   "metadata": {},
   "outputs": [
    {
     "name": "stdout",
     "output_type": "stream",
     "text": [
      "[[-5.  0.]\n",
      " [ 1.  0.]]\n"
     ]
    }
   ],
   "source": [
    "import numpy\n",
    "import theano.tensor as T\n",
    "from theano import function\n",
    "\n",
    "a=T.dmatrix('a')\n",
    "b=T.dmatrix('b')\n",
    "c=T.dmatrix('c')\n",
    "d=T.dmatrix('d')\n",
    "e = (a+b-c)*d\n",
    "f=function([a,b,c,d],e)\n",
    "\n",
    "node1=numpy.array([[1,1],[1,2]])\n",
    "node2=numpy.array([[2,2],[2,1]])\n",
    "node3=numpy.array([[4,3],[2,3]])\n",
    "node4=numpy.array([[5,2],[1,4]])\n",
    "\n",
    "print(f(node1,node2,node3,node4))"
   ]
  },
  {
   "cell_type": "code",
   "execution_count": 17,
   "metadata": {},
   "outputs": [
    {
     "name": "stdout",
     "output_type": "stream",
     "text": [
      "[[3.39 1.93]\n",
      " [1.41 2.63]]\n"
     ]
    }
   ],
   "source": [
    "import numpy\n",
    "import theano.tensor as T\n",
    "from theano import function\n",
    "\n",
    "a=T.dmatrix('a')\n",
    "b=T.dmatrix('b')\n",
    "c=T.dmatrix('c')\n",
    "d=T.dmatrix('d')\n",
    "\n",
    "na=T.dscalar('na')\n",
    "nb=T.dscalar('nb')\n",
    "nc=T.dscalar('nc')\n",
    "nd=T.dscalar('nd')\n",
    "\n",
    "f=function([a,b,c,d,na,nb,nc,nd],a*na+b*nb+c*nc+d*nd)\n",
    "\n",
    "node1=numpy.array([[1,1],[1,2]])\n",
    "node2=numpy.array([[2,2],[2,1]])\n",
    "node3=numpy.array([[4,3],[2,3]])\n",
    "node4=numpy.array([[5,2],[1,4]])\n",
    "\n",
    "print(f(node1,node2,node3,node4,0.12,0.36,0.05,0.47))\n"
   ]
  },
  {
   "cell_type": "code",
   "execution_count": 23,
   "metadata": {},
   "outputs": [
    {
     "name": "stdout",
     "output_type": "stream",
     "text": [
      "[[0.73105858 0.73105858]\n",
      " [0.73105858 0.88079708]\n",
      " [0.95257413 0.99330715]] \n",
      "\n",
      "[[0.75       0.75      ]\n",
      " [0.75       0.875     ]\n",
      " [0.95       0.98605705]] \n",
      "\n",
      "[[0.76159416 0.76159416]\n",
      " [0.76159416 0.96402758]\n",
      " [0.99505475 0.9999092 ]] \n",
      "\n",
      "[[1. 1.]\n",
      " [1. 2.]\n",
      " [3. 5.]] \n",
      "\n",
      "[[0.5        0.5       ]\n",
      " [0.26894142 0.73105858]\n",
      " [0.11920292 0.88079708]]\n"
     ]
    }
   ],
   "source": [
    "# activiation functions\n",
    "import theano.tensor as T\n",
    "from theano import function\n",
    "\n",
    "a=T.dmatrix('a')\n",
    "#sigmoid\n",
    "sig_a=T.nnet.sigmoid(a)\n",
    "sigmoidFunction=function([a],sig_a)\n",
    "#fast sigmoid\n",
    "fastSig_a=T.nnet.ultra_fast_sigmoid(a)\n",
    "fastSigFunction=function([a],fastSig_a)\n",
    "#tanh\n",
    "tanh_a=T.tanh(a)\n",
    "tanhFunction=function([a],tanh_a)\n",
    "#ReLU\n",
    "relu_a=T.nnet.relu(a)\n",
    "reluFunction=function([a],relu_a)\n",
    "#softMax\n",
    "softmax_a=T.nnet.softmax(a)\n",
    "softmaxFunction=function([a],softmax_a)\n",
    "\n",
    "print(sigmoidFunction([[1,1],[1,2],[3,5]]),'\\n')\n",
    "print(fastSigFunction([[1,1],[1,2],[3,5]]),'\\n')\n",
    "print(tanhFunction([[1,1],[1,2],[3,5]]),'\\n')\n",
    "print(reluFunction([[1,1],[1,2],[3,5]]),'\\n')\n",
    "print(softmaxFunction([[1,1],[1,2],[3,5]]))\n",
    "\n"
   ]
  },
  {
   "cell_type": "code",
   "execution_count": null,
   "metadata": {},
   "outputs": [],
   "source": []
  }
 ],
 "metadata": {
  "kernelspec": {
   "display_name": "Python 3",
   "language": "python",
   "name": "python3"
  },
  "language_info": {
   "codemirror_mode": {
    "name": "ipython",
    "version": 3
   },
   "file_extension": ".py",
   "mimetype": "text/x-python",
   "name": "python",
   "nbconvert_exporter": "python",
   "pygments_lexer": "ipython3",
   "version": "3.6.5"
  }
 },
 "nbformat": 4,
 "nbformat_minor": 2
}
